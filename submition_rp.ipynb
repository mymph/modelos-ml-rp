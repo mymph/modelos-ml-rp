{
  "nbformat": 4,
  "nbformat_minor": 0,
  "metadata": {
    "colab": {
      "provenance": [],
      "include_colab_link": true
    },
    "kernelspec": {
      "name": "python3",
      "display_name": "Python 3"
    },
    "language_info": {
      "name": "python"
    }
  },
  "cells": [
    {
      "cell_type": "markdown",
      "metadata": {
        "id": "view-in-github",
        "colab_type": "text"
      },
      "source": [
        "<a href=\"https://colab.research.google.com/github/mymph/modelos-ml-rp/blob/main/submition_rp.ipynb\" target=\"_parent\"><img src=\"https://colab.research.google.com/assets/colab-badge.svg\" alt=\"Open In Colab\"/></a>"
      ]
    },
    {
      "cell_type": "markdown",
      "source": [
        "#### Dupla: Letícia Lívia e Rodrigo Leandro"
      ],
      "metadata": {
        "id": "uWNvLGc2wmig"
      }
    },
    {
      "cell_type": "markdown",
      "source": [
        "# Importação das Bibliotecas"
      ],
      "metadata": {
        "id": "YRbXIM1V5Aa1"
      }
    },
    {
      "cell_type": "code",
      "execution_count": null,
      "metadata": {
        "id": "K-WZI-rp44bh"
      },
      "outputs": [],
      "source": [
        "import pandas as pd\n",
        "import numpy as np\n",
        "from sklearn.model_selection import train_test_split\n",
        "from sklearn.preprocessing import StandardScaler, LabelEncoder\n",
        "from sklearn.linear_model import LogisticRegression\n",
        "from sklearn.naive_bayes import GaussianNB\n",
        "from sklearn.neighbors import KNeighborsClassifier\n",
        "from sklearn.metrics import accuracy_score, f1_score, classification_report\n",
        "from sklearn.feature_selection import RFE"
      ]
    },
    {
      "cell_type": "markdown",
      "source": [
        "# Carregamento dos Dados"
      ],
      "metadata": {
        "id": "vHv1b_g35OOr"
      }
    },
    {
      "cell_type": "code",
      "source": [
        "train_val_df = pd.read_csv('/content/projeto_va1_base_de_dados_train_val.csv')\n",
        "test_df = pd.read_csv('/content/projeto_va1_base_de_dados_teste_sem_target.csv')\n",
        "\n",
        "#verificar os primeiros registros\n",
        "train_val_df.head()"
      ],
      "metadata": {
        "colab": {
          "base_uri": "https://localhost:8080/",
          "height": 206
        },
        "id": "DN4PPlng5VPK",
        "outputId": "abadbb70-8391-4d03-e042-6ed30e4de447"
      },
      "execution_count": null,
      "outputs": [
        {
          "output_type": "execute_result",
          "data": {
            "text/plain": [
              "   UF  SEXO  QT_DIARIAS  VAL_UTI  IDADE  INSTRU  RACA_COR  BODY_SYSTEM  H_COST\n",
              "0  31     3           1      0.0      4       0        99            8       0\n",
              "1  26     3          15      0.0     71       0         3            2       0\n",
              "2  35     3          30      0.0     61       0         1            5       0\n",
              "3  23     3           1      0.0     50       0         3           10       0\n",
              "4  43     1          24      0.0     38       0         1            5       0"
            ],
            "text/html": [
              "\n",
              "  <div id=\"df-b36ca979-13b2-4ff8-bd4a-71f8e9db92bb\" class=\"colab-df-container\">\n",
              "    <div>\n",
              "<style scoped>\n",
              "    .dataframe tbody tr th:only-of-type {\n",
              "        vertical-align: middle;\n",
              "    }\n",
              "\n",
              "    .dataframe tbody tr th {\n",
              "        vertical-align: top;\n",
              "    }\n",
              "\n",
              "    .dataframe thead th {\n",
              "        text-align: right;\n",
              "    }\n",
              "</style>\n",
              "<table border=\"1\" class=\"dataframe\">\n",
              "  <thead>\n",
              "    <tr style=\"text-align: right;\">\n",
              "      <th></th>\n",
              "      <th>UF</th>\n",
              "      <th>SEXO</th>\n",
              "      <th>QT_DIARIAS</th>\n",
              "      <th>VAL_UTI</th>\n",
              "      <th>IDADE</th>\n",
              "      <th>INSTRU</th>\n",
              "      <th>RACA_COR</th>\n",
              "      <th>BODY_SYSTEM</th>\n",
              "      <th>H_COST</th>\n",
              "    </tr>\n",
              "  </thead>\n",
              "  <tbody>\n",
              "    <tr>\n",
              "      <th>0</th>\n",
              "      <td>31</td>\n",
              "      <td>3</td>\n",
              "      <td>1</td>\n",
              "      <td>0.0</td>\n",
              "      <td>4</td>\n",
              "      <td>0</td>\n",
              "      <td>99</td>\n",
              "      <td>8</td>\n",
              "      <td>0</td>\n",
              "    </tr>\n",
              "    <tr>\n",
              "      <th>1</th>\n",
              "      <td>26</td>\n",
              "      <td>3</td>\n",
              "      <td>15</td>\n",
              "      <td>0.0</td>\n",
              "      <td>71</td>\n",
              "      <td>0</td>\n",
              "      <td>3</td>\n",
              "      <td>2</td>\n",
              "      <td>0</td>\n",
              "    </tr>\n",
              "    <tr>\n",
              "      <th>2</th>\n",
              "      <td>35</td>\n",
              "      <td>3</td>\n",
              "      <td>30</td>\n",
              "      <td>0.0</td>\n",
              "      <td>61</td>\n",
              "      <td>0</td>\n",
              "      <td>1</td>\n",
              "      <td>5</td>\n",
              "      <td>0</td>\n",
              "    </tr>\n",
              "    <tr>\n",
              "      <th>3</th>\n",
              "      <td>23</td>\n",
              "      <td>3</td>\n",
              "      <td>1</td>\n",
              "      <td>0.0</td>\n",
              "      <td>50</td>\n",
              "      <td>0</td>\n",
              "      <td>3</td>\n",
              "      <td>10</td>\n",
              "      <td>0</td>\n",
              "    </tr>\n",
              "    <tr>\n",
              "      <th>4</th>\n",
              "      <td>43</td>\n",
              "      <td>1</td>\n",
              "      <td>24</td>\n",
              "      <td>0.0</td>\n",
              "      <td>38</td>\n",
              "      <td>0</td>\n",
              "      <td>1</td>\n",
              "      <td>5</td>\n",
              "      <td>0</td>\n",
              "    </tr>\n",
              "  </tbody>\n",
              "</table>\n",
              "</div>\n",
              "    <div class=\"colab-df-buttons\">\n",
              "\n",
              "  <div class=\"colab-df-container\">\n",
              "    <button class=\"colab-df-convert\" onclick=\"convertToInteractive('df-b36ca979-13b2-4ff8-bd4a-71f8e9db92bb')\"\n",
              "            title=\"Convert this dataframe to an interactive table.\"\n",
              "            style=\"display:none;\">\n",
              "\n",
              "  <svg xmlns=\"http://www.w3.org/2000/svg\" height=\"24px\" viewBox=\"0 -960 960 960\">\n",
              "    <path d=\"M120-120v-720h720v720H120Zm60-500h600v-160H180v160Zm220 220h160v-160H400v160Zm0 220h160v-160H400v160ZM180-400h160v-160H180v160Zm440 0h160v-160H620v160ZM180-180h160v-160H180v160Zm440 0h160v-160H620v160Z\"/>\n",
              "  </svg>\n",
              "    </button>\n",
              "\n",
              "  <style>\n",
              "    .colab-df-container {\n",
              "      display:flex;\n",
              "      gap: 12px;\n",
              "    }\n",
              "\n",
              "    .colab-df-convert {\n",
              "      background-color: #E8F0FE;\n",
              "      border: none;\n",
              "      border-radius: 50%;\n",
              "      cursor: pointer;\n",
              "      display: none;\n",
              "      fill: #1967D2;\n",
              "      height: 32px;\n",
              "      padding: 0 0 0 0;\n",
              "      width: 32px;\n",
              "    }\n",
              "\n",
              "    .colab-df-convert:hover {\n",
              "      background-color: #E2EBFA;\n",
              "      box-shadow: 0px 1px 2px rgba(60, 64, 67, 0.3), 0px 1px 3px 1px rgba(60, 64, 67, 0.15);\n",
              "      fill: #174EA6;\n",
              "    }\n",
              "\n",
              "    .colab-df-buttons div {\n",
              "      margin-bottom: 4px;\n",
              "    }\n",
              "\n",
              "    [theme=dark] .colab-df-convert {\n",
              "      background-color: #3B4455;\n",
              "      fill: #D2E3FC;\n",
              "    }\n",
              "\n",
              "    [theme=dark] .colab-df-convert:hover {\n",
              "      background-color: #434B5C;\n",
              "      box-shadow: 0px 1px 3px 1px rgba(0, 0, 0, 0.15);\n",
              "      filter: drop-shadow(0px 1px 2px rgba(0, 0, 0, 0.3));\n",
              "      fill: #FFFFFF;\n",
              "    }\n",
              "  </style>\n",
              "\n",
              "    <script>\n",
              "      const buttonEl =\n",
              "        document.querySelector('#df-b36ca979-13b2-4ff8-bd4a-71f8e9db92bb button.colab-df-convert');\n",
              "      buttonEl.style.display =\n",
              "        google.colab.kernel.accessAllowed ? 'block' : 'none';\n",
              "\n",
              "      async function convertToInteractive(key) {\n",
              "        const element = document.querySelector('#df-b36ca979-13b2-4ff8-bd4a-71f8e9db92bb');\n",
              "        const dataTable =\n",
              "          await google.colab.kernel.invokeFunction('convertToInteractive',\n",
              "                                                    [key], {});\n",
              "        if (!dataTable) return;\n",
              "\n",
              "        const docLinkHtml = 'Like what you see? Visit the ' +\n",
              "          '<a target=\"_blank\" href=https://colab.research.google.com/notebooks/data_table.ipynb>data table notebook</a>'\n",
              "          + ' to learn more about interactive tables.';\n",
              "        element.innerHTML = '';\n",
              "        dataTable['output_type'] = 'display_data';\n",
              "        await google.colab.output.renderOutput(dataTable, element);\n",
              "        const docLink = document.createElement('div');\n",
              "        docLink.innerHTML = docLinkHtml;\n",
              "        element.appendChild(docLink);\n",
              "      }\n",
              "    </script>\n",
              "  </div>\n",
              "\n",
              "\n",
              "<div id=\"df-bdd84a6b-30bd-43fd-b700-7f5ba1768574\">\n",
              "  <button class=\"colab-df-quickchart\" onclick=\"quickchart('df-bdd84a6b-30bd-43fd-b700-7f5ba1768574')\"\n",
              "            title=\"Suggest charts\"\n",
              "            style=\"display:none;\">\n",
              "\n",
              "<svg xmlns=\"http://www.w3.org/2000/svg\" height=\"24px\"viewBox=\"0 0 24 24\"\n",
              "     width=\"24px\">\n",
              "    <g>\n",
              "        <path d=\"M19 3H5c-1.1 0-2 .9-2 2v14c0 1.1.9 2 2 2h14c1.1 0 2-.9 2-2V5c0-1.1-.9-2-2-2zM9 17H7v-7h2v7zm4 0h-2V7h2v10zm4 0h-2v-4h2v4z\"/>\n",
              "    </g>\n",
              "</svg>\n",
              "  </button>\n",
              "\n",
              "<style>\n",
              "  .colab-df-quickchart {\n",
              "      --bg-color: #E8F0FE;\n",
              "      --fill-color: #1967D2;\n",
              "      --hover-bg-color: #E2EBFA;\n",
              "      --hover-fill-color: #174EA6;\n",
              "      --disabled-fill-color: #AAA;\n",
              "      --disabled-bg-color: #DDD;\n",
              "  }\n",
              "\n",
              "  [theme=dark] .colab-df-quickchart {\n",
              "      --bg-color: #3B4455;\n",
              "      --fill-color: #D2E3FC;\n",
              "      --hover-bg-color: #434B5C;\n",
              "      --hover-fill-color: #FFFFFF;\n",
              "      --disabled-bg-color: #3B4455;\n",
              "      --disabled-fill-color: #666;\n",
              "  }\n",
              "\n",
              "  .colab-df-quickchart {\n",
              "    background-color: var(--bg-color);\n",
              "    border: none;\n",
              "    border-radius: 50%;\n",
              "    cursor: pointer;\n",
              "    display: none;\n",
              "    fill: var(--fill-color);\n",
              "    height: 32px;\n",
              "    padding: 0;\n",
              "    width: 32px;\n",
              "  }\n",
              "\n",
              "  .colab-df-quickchart:hover {\n",
              "    background-color: var(--hover-bg-color);\n",
              "    box-shadow: 0 1px 2px rgba(60, 64, 67, 0.3), 0 1px 3px 1px rgba(60, 64, 67, 0.15);\n",
              "    fill: var(--button-hover-fill-color);\n",
              "  }\n",
              "\n",
              "  .colab-df-quickchart-complete:disabled,\n",
              "  .colab-df-quickchart-complete:disabled:hover {\n",
              "    background-color: var(--disabled-bg-color);\n",
              "    fill: var(--disabled-fill-color);\n",
              "    box-shadow: none;\n",
              "  }\n",
              "\n",
              "  .colab-df-spinner {\n",
              "    border: 2px solid var(--fill-color);\n",
              "    border-color: transparent;\n",
              "    border-bottom-color: var(--fill-color);\n",
              "    animation:\n",
              "      spin 1s steps(1) infinite;\n",
              "  }\n",
              "\n",
              "  @keyframes spin {\n",
              "    0% {\n",
              "      border-color: transparent;\n",
              "      border-bottom-color: var(--fill-color);\n",
              "      border-left-color: var(--fill-color);\n",
              "    }\n",
              "    20% {\n",
              "      border-color: transparent;\n",
              "      border-left-color: var(--fill-color);\n",
              "      border-top-color: var(--fill-color);\n",
              "    }\n",
              "    30% {\n",
              "      border-color: transparent;\n",
              "      border-left-color: var(--fill-color);\n",
              "      border-top-color: var(--fill-color);\n",
              "      border-right-color: var(--fill-color);\n",
              "    }\n",
              "    40% {\n",
              "      border-color: transparent;\n",
              "      border-right-color: var(--fill-color);\n",
              "      border-top-color: var(--fill-color);\n",
              "    }\n",
              "    60% {\n",
              "      border-color: transparent;\n",
              "      border-right-color: var(--fill-color);\n",
              "    }\n",
              "    80% {\n",
              "      border-color: transparent;\n",
              "      border-right-color: var(--fill-color);\n",
              "      border-bottom-color: var(--fill-color);\n",
              "    }\n",
              "    90% {\n",
              "      border-color: transparent;\n",
              "      border-bottom-color: var(--fill-color);\n",
              "    }\n",
              "  }\n",
              "</style>\n",
              "\n",
              "  <script>\n",
              "    async function quickchart(key) {\n",
              "      const quickchartButtonEl =\n",
              "        document.querySelector('#' + key + ' button');\n",
              "      quickchartButtonEl.disabled = true;  // To prevent multiple clicks.\n",
              "      quickchartButtonEl.classList.add('colab-df-spinner');\n",
              "      try {\n",
              "        const charts = await google.colab.kernel.invokeFunction(\n",
              "            'suggestCharts', [key], {});\n",
              "      } catch (error) {\n",
              "        console.error('Error during call to suggestCharts:', error);\n",
              "      }\n",
              "      quickchartButtonEl.classList.remove('colab-df-spinner');\n",
              "      quickchartButtonEl.classList.add('colab-df-quickchart-complete');\n",
              "    }\n",
              "    (() => {\n",
              "      let quickchartButtonEl =\n",
              "        document.querySelector('#df-bdd84a6b-30bd-43fd-b700-7f5ba1768574 button');\n",
              "      quickchartButtonEl.style.display =\n",
              "        google.colab.kernel.accessAllowed ? 'block' : 'none';\n",
              "    })();\n",
              "  </script>\n",
              "</div>\n",
              "\n",
              "    </div>\n",
              "  </div>\n"
            ],
            "application/vnd.google.colaboratory.intrinsic+json": {
              "type": "dataframe",
              "variable_name": "train_val_df"
            }
          },
          "metadata": {},
          "execution_count": 40
        }
      ]
    },
    {
      "cell_type": "markdown",
      "source": [
        "#Análise Exploratória de Dados"
      ],
      "metadata": {
        "id": "gsbCZ9mzxAwQ"
      }
    },
    {
      "cell_type": "code",
      "source": [
        "#verificar os tipos de dados em cada coluna no caso de alguma precisar de codificação\n",
        "print(train_val_df.dtypes)"
      ],
      "metadata": {
        "colab": {
          "base_uri": "https://localhost:8080/"
        },
        "id": "hKxuA9y4xCvv",
        "outputId": "17b4c035-9103-4e2f-b9a5-ee15d13816b8"
      },
      "execution_count": null,
      "outputs": [
        {
          "output_type": "stream",
          "name": "stdout",
          "text": [
            "UF               int64\n",
            "SEXO             int64\n",
            "QT_DIARIAS       int64\n",
            "VAL_UTI        float64\n",
            "IDADE            int64\n",
            "INSTRU           int64\n",
            "RACA_COR         int64\n",
            "BODY_SYSTEM      int64\n",
            "H_COST           int64\n",
            "dtype: object\n"
          ]
        }
      ]
    },
    {
      "cell_type": "code",
      "source": [
        "#verificar se é necessário tratar valores ausentes\n",
        "print(train_val_df.isna().sum())"
      ],
      "metadata": {
        "colab": {
          "base_uri": "https://localhost:8080/"
        },
        "id": "you-FA8txMMb",
        "outputId": "c63e5913-89d1-47b4-e7f4-ec56e58986dd"
      },
      "execution_count": null,
      "outputs": [
        {
          "output_type": "stream",
          "name": "stdout",
          "text": [
            "UF             0\n",
            "SEXO           0\n",
            "QT_DIARIAS     0\n",
            "VAL_UTI        0\n",
            "IDADE          0\n",
            "INSTRU         0\n",
            "RACA_COR       0\n",
            "BODY_SYSTEM    0\n",
            "H_COST         0\n",
            "dtype: int64\n"
          ]
        }
      ]
    },
    {
      "cell_type": "markdown",
      "source": [],
      "metadata": {
        "id": "anPs7onibiRT"
      }
    },
    {
      "cell_type": "markdown",
      "source": [
        "#Pré-processamento de Dados"
      ],
      "metadata": {
        "id": "aImGy_yUbeNB"
      }
    },
    {
      "cell_type": "code",
      "source": [
        "# Tratamento de Missing Values\n",
        "\n",
        "train_val_df.fillna(train_val_df.mode(), inplace=True)\n",
        "test_df.fillna(test_df.median(), inplace=True)"
      ],
      "metadata": {
        "id": "4vuQ43NBWTx6"
      },
      "execution_count": null,
      "outputs": []
    },
    {
      "cell_type": "code",
      "source": [
        "# Codificação de Variáveis Categóricas\n",
        "\n",
        "label_encoders = {}\n",
        "for column in ['SEXO', 'INSTRU', 'RACA_COR', 'BODY_SYSTEM']:\n",
        "    le = LabelEncoder()\n",
        "    train_val_df[column] = le.fit_transform(train_val_df[column])\n",
        "    test_df[column] = le.transform(test_df[column].map(lambda s: '<unknown>' if s not in le.classes_ else s))\n",
        "    le.classes_ = np.append(le.classes_, '<unknown>')\n",
        "    label_encoders[column] = le"
      ],
      "metadata": {
        "id": "MyThz6I3WX70"
      },
      "execution_count": null,
      "outputs": []
    },
    {
      "cell_type": "markdown",
      "source": [
        "# Separação das Features e Target"
      ],
      "metadata": {
        "id": "4dTG23nl53o0"
      }
    },
    {
      "cell_type": "code",
      "source": [
        "X = train_val_df.drop(columns=['H_COST'])\n",
        "y = train_val_df['H_COST']"
      ],
      "metadata": {
        "id": "c7EHxyr_6Cfs"
      },
      "execution_count": null,
      "outputs": []
    },
    {
      "cell_type": "code",
      "source": [
        "# primeiras linhas das variáveis independentes `x` (features)\n",
        "print(X.head())\n",
        "\n",
        "print(\"\\n\")\n",
        "\n",
        "# primeiras linhas da variável dependente `y` (target)\n",
        "print(y.head())"
      ],
      "metadata": {
        "colab": {
          "base_uri": "https://localhost:8080/"
        },
        "id": "nuUBsxpFyRSQ",
        "outputId": "f4ba790f-9ddd-4634-e6fe-757a2070c823"
      },
      "execution_count": null,
      "outputs": [
        {
          "output_type": "stream",
          "name": "stdout",
          "text": [
            "   UF  SEXO  QT_DIARIAS  VAL_UTI  IDADE  INSTRU  RACA_COR  BODY_SYSTEM\n",
            "0  31     3           1      0.0      4       0        99            8\n",
            "1  26     3          15      0.0     71       0         3            2\n",
            "2  35     3          30      0.0     61       0         1            5\n",
            "3  23     3           1      0.0     50       0         3           10\n",
            "4  43     1          24      0.0     38       0         1            5\n",
            "\n",
            "\n",
            "0    0\n",
            "1    0\n",
            "2    0\n",
            "3    0\n",
            "4    0\n",
            "Name: H_COST, dtype: int64\n"
          ]
        }
      ]
    },
    {
      "cell_type": "markdown",
      "source": [
        "# Divisão em conjunto de Treinamento e Validação"
      ],
      "metadata": {
        "id": "F-JG9rAhzfPt"
      }
    },
    {
      "cell_type": "code",
      "source": [
        "# Dividir os dados em treino e validação\n",
        "X_train, X_val, y_train, y_val = train_test_split(X, y, test_size=0.2, random_state=42)"
      ],
      "metadata": {
        "id": "Vyd4WYi86Lmj"
      },
      "execution_count": null,
      "outputs": []
    },
    {
      "cell_type": "code",
      "source": [
        "# X_train (features de treinamento)\n",
        "print(X_train.head())\n",
        "\n",
        "print(\"\\n\")\n",
        "\n",
        "# X_val (features de validação)\n",
        "print(X_val.head())\n",
        "\n",
        "print(\"\\n\")\n",
        "\n",
        "# y_train (target de treinamento)\n",
        "print(y_train.head())\n",
        "\n",
        "print(\"\\n\")\n",
        "\n",
        "# y_val (target de treinamento)\n",
        "print(y_val.head())"
      ],
      "metadata": {
        "colab": {
          "base_uri": "https://localhost:8080/"
        },
        "id": "oPYY7UmBzpIl",
        "outputId": "e644ae97-5d82-47f9-8acc-cec0cd1c4fd1"
      },
      "execution_count": null,
      "outputs": [
        {
          "output_type": "stream",
          "name": "stdout",
          "text": [
            "         UF  SEXO  QT_DIARIAS  VAL_UTI  IDADE  INSTRU  RACA_COR  BODY_SYSTEM\n",
            "2179118  21     1           2      0.0     63       0        99            7\n",
            "3010952  26     1           4      0.0     67       0         3            5\n",
            "1185789  29     3           1      0.0     74       0         3            6\n",
            "1632198  31     3           7      0.0     75       0         3           10\n",
            "3367111  42     1           4      0.0     66       0         1            2\n",
            "\n",
            "\n",
            "         UF  SEXO  QT_DIARIAS  VAL_UTI  IDADE  INSTRU  RACA_COR  BODY_SYSTEM\n",
            "367692   31     1           1      0.0     34       0         1            7\n",
            "105116   35     3           2      0.0     57       0         1            2\n",
            "2311018  35     1          31      0.0     31       0         1            5\n",
            "3282034  35     3           2      0.0     25       0         1           11\n",
            "2831660  33     1           9      0.0     66       0         1            7\n",
            "\n",
            "\n",
            "2179118    0\n",
            "3010952    0\n",
            "1185789    0\n",
            "1632198    0\n",
            "3367111    0\n",
            "Name: H_COST, dtype: int64\n",
            "\n",
            "\n",
            "367692     0\n",
            "105116     0\n",
            "2311018    0\n",
            "3282034    0\n",
            "2831660    0\n",
            "Name: H_COST, dtype: int64\n"
          ]
        }
      ]
    },
    {
      "cell_type": "markdown",
      "source": [
        "# Normalização"
      ],
      "metadata": {
        "id": "aK2B2sf_6PQb"
      }
    },
    {
      "cell_type": "code",
      "source": [
        "#criação do scaler p todas as colunas\n",
        "all_features = X_train.columns\n",
        "scaler = StandardScaler()\n",
        "\n",
        "#aplicação da transformação\n",
        "X_train[all_features] = scaler.fit_transform(X_train[all_features])\n",
        "X_val[all_features] = scaler.transform(X_val[all_features])\n",
        "test_df[all_features] = scaler.transform(test_df[all_features])"
      ],
      "metadata": {
        "id": "a2JPCUtN6VJs"
      },
      "execution_count": null,
      "outputs": []
    },
    {
      "cell_type": "markdown",
      "source": [
        "# Feature Selection com RFE"
      ],
      "metadata": {
        "id": "qa5HuedJd8u5"
      }
    },
    {
      "cell_type": "code",
      "source": [
        "#modelo base para RFE para KNN (os outros modelos usados para teste não)\n",
        "base_model = KNeighborsClassifier(n_neighbors=5, metric='euclidean')\n",
        "\n",
        "#RFE para selecionar as melhores 10 features\n",
        "selector = RFE(base_model, n_features_to_select=10, step=1)\n",
        "selector = selector.fit(X_train, y_train)\n",
        "\n",
        "X_train_selected = selector.transform(X_train)\n",
        "X_val_selected = selector.transform(X_val)\n",
        "X_test_selected = selector.transform(test_df)\n",
        "\n",
        "#verificar quais features foram selecionadas\n",
        "selected_features = np.array(all_features)[selector.support_]\n",
        "print(f\"Selected features: {selected_features}\")"
      ],
      "metadata": {
        "colab": {
          "base_uri": "https://localhost:8080/"
        },
        "id": "xYH43DaFeAfX",
        "outputId": "0cb6dc93-d4b7-4f77-848a-947b980a5c20"
      },
      "execution_count": null,
      "outputs": [
        {
          "output_type": "stream",
          "name": "stdout",
          "text": [
            "Selected features: ['UF' 'SEXO' 'QT_DIARIAS' 'VAL_UTI' 'IDADE' 'INSTRU' 'RACA_COR'\n",
            " 'BODY_SYSTEM']\n"
          ]
        }
      ]
    },
    {
      "cell_type": "markdown",
      "source": [
        "# Construção do Modelo e ajuste dos Hiperparâmetros"
      ],
      "metadata": {
        "id": "vpDKAQv86ior"
      }
    },
    {
      "cell_type": "code",
      "source": [
        "#construção e treino do modelo de Regressão Logística\n",
        "log_reg_model = LogisticRegression(C=1.0, penalty='l2', solver='liblinear', max_iter=1000)\n",
        "log_reg_model.fit(X_train, y_train)\n",
        "\n",
        "#previsões e métricas\n",
        "y_val_pred_lr = log_reg_model.predict(X_val)\n",
        "acc_lr = accuracy_score(y_val, y_val_pred_lr)\n",
        "f1_lr = f1_score(y_val, y_val_pred_lr)\n",
        "print(f'Regressão Logística - Acurácia: {acc_lr:.4f}')\n",
        "print(classification_report(y_val, y_val_pred_lr))"
      ],
      "metadata": {
        "colab": {
          "base_uri": "https://localhost:8080/"
        },
        "id": "df0a9n_t6yz1",
        "outputId": "7d14a5a4-e062-4a27-d34d-38257bf84068"
      },
      "execution_count": null,
      "outputs": [
        {
          "output_type": "stream",
          "name": "stdout",
          "text": [
            "Regressão Logística - Acurácia: 0.9560\n",
            "              precision    recall  f1-score   support\n",
            "\n",
            "           0       0.96      0.99      0.98    702293\n",
            "           1       0.68      0.24      0.36     37235\n",
            "\n",
            "    accuracy                           0.96    739528\n",
            "   macro avg       0.82      0.62      0.67    739528\n",
            "weighted avg       0.95      0.96      0.95    739528\n",
            "\n"
          ]
        }
      ]
    },
    {
      "cell_type": "code",
      "source": [
        "#construção e treino do modelo Naive Bayes\n",
        "nb_model = GaussianNB()\n",
        "nb_model.fit(X_train, y_train)\n",
        "\n",
        "#previsões e métricas\n",
        "y_val_pred_nb = nb_model.predict(X_val)\n",
        "acc_nb = accuracy_score(y_val, y_val_pred_nb)\n",
        "f1_nb = f1_score(y_val, y_val_pred_nb)\n",
        "print(f'Naive Bayes - Acurácia: {acc_nb:.4f}')\n",
        "print(classification_report(y_val, y_val_pred_nb))"
      ],
      "metadata": {
        "colab": {
          "base_uri": "https://localhost:8080/"
        },
        "id": "jbDJkv9ACZG6",
        "outputId": "fc219f77-f32a-4236-e9aa-5a5e331e164a"
      },
      "execution_count": null,
      "outputs": [
        {
          "output_type": "stream",
          "name": "stdout",
          "text": [
            "Naive Bayes - Acurácia: 0.0505\n",
            "              precision    recall  f1-score   support\n",
            "\n",
            "           0       1.00      0.00      0.00    702293\n",
            "           1       0.05      1.00      0.10     37235\n",
            "\n",
            "    accuracy                           0.05    739528\n",
            "   macro avg       0.53      0.50      0.05    739528\n",
            "weighted avg       0.95      0.05      0.01    739528\n",
            "\n"
          ]
        }
      ]
    },
    {
      "cell_type": "code",
      "source": [
        "#construção e treino do modelo KNN com RFE\n",
        "knn_model = KNeighborsClassifier(n_neighbors=20, metric='euclidean')\n",
        "knn_model.fit(X_train_selected, y_train)\n",
        "\n",
        "#previsões e métricas\n",
        "y_val_pred_knn = knn_model.predict(X_val_selected)\n",
        "acc_knn = accuracy_score(y_val, y_val_pred_knn)\n",
        "f1_knn = f1_score(y_val, y_val_pred_knn)\n",
        "print(f'KNN com RFE - Accurácia: {acc_knn:.4f}')\n",
        "print(classification_report(y_val, y_val_pred_knn))"
      ],
      "metadata": {
        "colab": {
          "base_uri": "https://localhost:8080/"
        },
        "id": "y7I_RufWCej6",
        "outputId": "aead742f-16e6-4028-a62d-373edb43ac34"
      },
      "execution_count": null,
      "outputs": [
        {
          "output_type": "stream",
          "name": "stdout",
          "text": [
            "KNN com RFE - Accurácia: 0.9610\n",
            "              precision    recall  f1-score   support\n",
            "\n",
            "           0       0.97      0.99      0.98    702293\n",
            "           1       0.72      0.36      0.48     37235\n",
            "\n",
            "    accuracy                           0.96    739528\n",
            "   macro avg       0.85      0.68      0.73    739528\n",
            "weighted avg       0.95      0.96      0.95    739528\n",
            "\n"
          ]
        }
      ]
    },
    {
      "cell_type": "code",
      "source": [
        "#selecionar o melhor modelo baseado no f1-score\n",
        "best_model = None\n",
        "best_score = 0\n",
        "\n",
        "if f1_lr > best_score:\n",
        "    best_score = f1_lr\n",
        "    best_model = log_reg_model\n",
        "\n",
        "if f1_nb > best_score:\n",
        "    best_score = f1_nb\n",
        "    best_model = nb_model\n",
        "\n",
        "if f1_knn > best_score:\n",
        "    best_score = f1_knn\n",
        "    best_model = knn_model\n",
        "\n",
        "print(f'\\nMelhor modelo: {best_model}')"
      ],
      "metadata": {
        "colab": {
          "base_uri": "https://localhost:8080/"
        },
        "id": "_-WUfBNAHpRm",
        "outputId": "66edbfd8-16e2-4267-8d3b-7c3dd2933201"
      },
      "execution_count": null,
      "outputs": [
        {
          "output_type": "stream",
          "name": "stdout",
          "text": [
            "\n",
            "Melhor modelo: KNeighborsClassifier(metric='euclidean', n_neighbors=20)\n"
          ]
        }
      ]
    },
    {
      "cell_type": "markdown",
      "source": [
        "# Avaliação no conjunto de Validação"
      ],
      "metadata": {
        "id": "6Rj4PyEj69Ha"
      }
    },
    {
      "cell_type": "code",
      "source": [
        "#avaliação no conjunto de Validação\n",
        "\n",
        "y_probs = best_model.predict_proba(X_val_selected)[:, 1]\n",
        "\n",
        "threshold = 0.4\n",
        "y_pred = (y_probs >= threshold).astype(int)\n",
        "\n",
        "print(classification_report(y_val, y_pred))"
      ],
      "metadata": {
        "colab": {
          "base_uri": "https://localhost:8080/"
        },
        "id": "qubnqHP97Diq",
        "outputId": "3ca8c22d-da76-4c8b-eaf4-08431de28d8f"
      },
      "execution_count": null,
      "outputs": [
        {
          "output_type": "stream",
          "name": "stdout",
          "text": [
            "              precision    recall  f1-score   support\n",
            "\n",
            "           0       0.97      0.98      0.98    702293\n",
            "           1       0.60      0.50      0.54     37235\n",
            "\n",
            "    accuracy                           0.96    739528\n",
            "   macro avg       0.78      0.74      0.76    739528\n",
            "weighted avg       0.95      0.96      0.96    739528\n",
            "\n"
          ]
        }
      ]
    },
    {
      "cell_type": "markdown",
      "source": [
        "# Previsão no conjunto de Teste"
      ],
      "metadata": {
        "id": "gyz6jxuO7Gvf"
      }
    },
    {
      "cell_type": "code",
      "source": [
        "#previsão com o melhor modelo\n",
        "y_test_pred = best_model.predict(X_test_selected)\n",
        "\n",
        "#contagem das previsões no conjunto de teste\n",
        "prediction_counts = pd.Series(y_test_pred).value_counts()\n",
        "print(\"Contagem de cada previsão no conjunto de teste:\")\n",
        "print(prediction_counts)"
      ],
      "metadata": {
        "id": "E05Ty6WF7LZ5",
        "colab": {
          "base_uri": "https://localhost:8080/"
        },
        "outputId": "f72a5e18-1434-408b-e94e-3043bac3189a"
      },
      "execution_count": null,
      "outputs": [
        {
          "output_type": "stream",
          "name": "stdout",
          "text": [
            "Contagem de cada previsão no conjunto de teste:\n",
            "0    1544356\n",
            "1      40347\n",
            "Name: count, dtype: int64\n"
          ]
        }
      ]
    },
    {
      "cell_type": "markdown",
      "source": [
        "# Criação do arquivo de Submissão"
      ],
      "metadata": {
        "id": "hmRaIge-7U9S"
      }
    },
    {
      "cell_type": "code",
      "source": [
        "#salvar resultado\n",
        "output = pd.DataFrame({'H_COST_PRED': y_test_pred})\n",
        "output.to_csv('/content/submission.csv', index=False)\n",
        "\n",
        "print(\"Previsões salvas em 'submission.csv'\")"
      ],
      "metadata": {
        "colab": {
          "base_uri": "https://localhost:8080/"
        },
        "id": "eTFWfUxE7Ypz",
        "outputId": "d5c3e175-a803-4b7c-d5b5-61c529c2433c"
      },
      "execution_count": null,
      "outputs": [
        {
          "output_type": "stream",
          "name": "stdout",
          "text": [
            "Previsões salvas em 'submission.csv'\n"
          ]
        }
      ]
    }
  ]
}